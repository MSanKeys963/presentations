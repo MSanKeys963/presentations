{
 "cells": [
  {
   "cell_type": "markdown",
   "id": "db3c3976-0cd5-412e-bfdf-051b53b65338",
   "metadata": {},
   "source": [
    "## Initialisation"
   ]
  },
  {
   "cell_type": "code",
   "execution_count": 1,
   "id": "a9fefe3e-e1c0-4615-b6e5-c662a700838b",
   "metadata": {},
   "outputs": [],
   "source": [
    "import zarr\n",
    "import zarrita\n",
    "import numpy as np"
   ]
  },
  {
   "cell_type": "code",
   "execution_count": 2,
   "id": "c9f72ac3-1eaf-4cbc-958a-de5b446dd278",
   "metadata": {},
   "outputs": [],
   "source": [
    "store = zarrita.LocalStore('testoutput')\n",
    "\n",
    "testdata = np.arange(0, 16 * 16, dtype='int32').reshape((16, 16))"
   ]
  },
  {
   "cell_type": "markdown",
   "id": "112376ea-dd49-4b21-9bde-19d6a9c89012",
   "metadata": {},
   "source": [
    "## Creating an array"
   ]
  },
  {
   "cell_type": "code",
   "execution_count": 13,
   "id": "7b25cdb5-f622-47d6-8617-5ce72911a2fc",
   "metadata": {},
   "outputs": [],
   "source": [
    "a = zarrita.Array.create(\n",
    "    store='array',\n",
    "    shape=(16, 16),\n",
    "    dtype='int32',\n",
    "    chunk_shape=(4, 4),\n",
    "    codecs=[\n",
    "        zarrita.codecs.bytes_codec(),\n",
    "        zarrita.codecs.blosc_codec(typesize=4),\n",
    "    ],\n",
    "    attributes={'question': 'life', 'answer': 42}\n",
    ")\n",
    "a[:, :] = testdata"
   ]
  },
  {
   "cell_type": "code",
   "execution_count": 15,
   "id": "63b979c9-8d7a-4240-85ac-439e3ee6b444",
   "metadata": {},
   "outputs": [
    {
     "name": "stdout",
     "output_type": "stream",
     "text": [
      "\u001b[1;36marray\u001b[0m\n",
      "├── .DS_Store\n",
      "├── \u001b[1;36mc\u001b[0m\n",
      "│   ├── .DS_Store\n",
      "│   ├── \u001b[1;36m0\u001b[0m\n",
      "│   │   ├── 0\n",
      "│   │   ├── 1\n",
      "│   │   ├── 2\n",
      "│   │   └── 3\n",
      "│   ├── \u001b[1;36m1\u001b[0m\n"
     ]
    }
   ],
   "source": [
    "!tree -a array | head"
   ]
  },
  {
   "cell_type": "markdown",
   "id": "82d91beb-b044-427d-a5a2-394d2ccf8f2a",
   "metadata": {},
   "source": [
    "## Looking at the array's metadata"
   ]
  },
  {
   "cell_type": "code",
   "execution_count": 16,
   "id": "f3881f6c-faca-4a6d-a69a-b1a73c93e5a6",
   "metadata": {},
   "outputs": [
    {
     "name": "stdout",
     "output_type": "stream",
     "text": [
      "{'shape': [16, 16], 'data_type': 'int32', 'chunk_grid': {'configuration': {'chunk_shape': [4, 4]}, 'name': 'regular'}, 'chunk_key_encoding': {'configuration': {'separator': '/'}, 'name': 'default'}, 'fill_value': 0, 'codecs': [{'configuration': {'endian': 'little'}, 'name': 'bytes'}, {'configuration': {'typesize': 4, 'cname': 'zstd', 'clevel': 5, 'shuffle': 'noshuffle', 'blocksize': 0}, 'name': 'blosc'}], 'attributes': {'question': 'life', 'answer': 42}, 'zarr_format': 3, 'node_type': 'array'}\n"
     ]
    }
   ],
   "source": [
    "import json\n",
    "with open('array/zarr.json') as fp:\n",
    "    print(json.load(fp))"
   ]
  },
  {
   "cell_type": "markdown",
   "id": "f058eacd-a1b6-4115-8200-1d2778fe6b18",
   "metadata": {},
   "source": [
    "## Opening an array"
   ]
  },
  {
   "cell_type": "code",
   "execution_count": 17,
   "id": "0c7d803a-5825-4ef6-bfcf-484887444e5f",
   "metadata": {},
   "outputs": [],
   "source": [
    "a = zarrita.Array.open(store='array')\n",
    "assert np.array_equal(a[:, :], testdata)"
   ]
  },
  {
   "cell_type": "markdown",
   "id": "0166b942-004a-46e4-a9bc-0bbc0a29a08b",
   "metadata": {},
   "source": [
    "## Creating a [Sharded](https://zarr.dev/zeps/accepted/ZEP0002.html) Array"
   ]
  },
  {
   "cell_type": "code",
   "execution_count": 25,
   "id": "82730b5e-8860-4e48-a593-9e3cb2e07e3a",
   "metadata": {},
   "outputs": [],
   "source": [
    "a = zarrita.Array.create(\n",
    "    store='sharding',\n",
    "    shape=(16, 16),\n",
    "    dtype='int32',\n",
    "    chunk_shape=(8, 8),\n",
    "    chunk_key_encoding=('v2', '.'),\n",
    "    codecs=[\n",
    "        zarrita.codecs.sharding_codec(\n",
    "            chunk_shape=(4, 4),\n",
    "            codecs=[\n",
    "                zarrita.codecs.bytes_codec(),\n",
    "                zarrita.codecs.blosc_codec(typesize=4),\n",
    "            ]\n",
    "        ),\n",
    "    ],\n",
    ")\n",
    "a[:, :] = testdata\n",
    "assert np.array_equal(a[:, :], testdata)"
   ]
  },
  {
   "cell_type": "code",
   "execution_count": 26,
   "id": "02699103-eee8-4773-bb51-0de2ac7faf57",
   "metadata": {},
   "outputs": [
    {
     "name": "stdout",
     "output_type": "stream",
     "text": [
      "\u001b[1;36msharding\u001b[0m\n",
      "├── 0.0\n",
      "├── 0.1\n",
      "├── 1.0\n",
      "├── 1.1\n",
      "└── zarr.json\n",
      "\n",
      "0 directories, 5 files\n"
     ]
    }
   ],
   "source": [
    "!tree -a sharding | head"
   ]
  },
  {
   "cell_type": "markdown",
   "id": "91c58a5a-27ad-4bc9-965c-37a1bd373a7b",
   "metadata": {},
   "source": [
    "## Looking at the array's metadata"
   ]
  },
  {
   "cell_type": "code",
   "execution_count": 30,
   "id": "01f3a989-f52f-451e-8ddd-7715edaa97f1",
   "metadata": {},
   "outputs": [
    {
     "name": "stdout",
     "output_type": "stream",
     "text": [
      "{'shape': [16, 16], 'data_type': 'int32', 'chunk_grid': {'configuration': {'chunk_shape': [8, 8]}, 'name': 'regular'}, 'chunk_key_encoding': {'configuration': {'separator': '.'}, 'name': 'v2'}, 'fill_value': 0, 'codecs': [{'configuration': {'chunk_shape': [4, 4], 'codecs': [{'configuration': {'endian': 'little'}, 'name': 'bytes'}, {'configuration': {'typesize': 4, 'cname': 'zstd', 'clevel': 5, 'shuffle': 'noshuffle', 'blocksize': 0}, 'name': 'blosc'}], 'index_codecs': [{'configuration': {'endian': 'little'}, 'name': 'bytes'}, {'name': 'crc32c'}], 'index_location': 'end'}, 'name': 'sharding_indexed'}], 'attributes': {}, 'zarr_format': 3, 'node_type': 'array'}\n"
     ]
    }
   ],
   "source": [
    "with open('sharding/zarr.json') as fp:\n",
    "    print(json.load(fp))"
   ]
  },
  {
   "cell_type": "markdown",
   "id": "7aa6aba2-9aae-4796-86c9-e0b806584976",
   "metadata": {},
   "source": [
    "## Creating a group"
   ]
  },
  {
   "cell_type": "code",
   "execution_count": 32,
   "id": "375673c4-19cf-426d-8fe9-25ad9ca9fb30",
   "metadata": {},
   "outputs": [],
   "source": [
    "g = zarrita.Group.create(store='group')\n",
    "g2 = g.create_group('group2')\n",
    "a = g2.create_array(\n",
    "    'array',\n",
    "    shape=(16, 16),\n",
    "    dtype='int32',\n",
    "    chunk_shape=(16, 16),\n",
    ")\n",
    "a[:, :] = testdata"
   ]
  },
  {
   "cell_type": "code",
   "execution_count": 33,
   "id": "c38d3753-f690-4822-b5d5-8199fdbc9ec8",
   "metadata": {},
   "outputs": [
    {
     "name": "stdout",
     "output_type": "stream",
     "text": [
      "\u001b[1;36mgroup\u001b[0m\n",
      "├── \u001b[1;36mgroup2\u001b[0m\n",
      "│   ├── \u001b[1;36marray\u001b[0m\n",
      "│   │   ├── \u001b[1;36mc\u001b[0m\n",
      "│   │   │   └── \u001b[1;36m0\u001b[0m\n",
      "│   │   │       └── 0\n",
      "│   │   └── zarr.json\n",
      "│   └── zarr.json\n",
      "└── zarr.json\n",
      "\n"
     ]
    }
   ],
   "source": [
    "!tree -a group | head"
   ]
  },
  {
   "cell_type": "markdown",
   "id": "0cf26bb6-659d-45b7-92fd-1d5d2c6c351a",
   "metadata": {},
   "source": [
    "## Navigating inside the group"
   ]
  },
  {
   "cell_type": "code",
   "execution_count": 34,
   "id": "f021cfa8-0bef-46f3-b94f-f15fbc580f94",
   "metadata": {},
   "outputs": [
    {
     "name": "stdout",
     "output_type": "stream",
     "text": [
      "{'attributes': {}, 'zarr_format': 3, 'node_type': 'group'}\n"
     ]
    }
   ],
   "source": [
    "with open('group/zarr.json') as fp:\n",
    "    print(json.load(fp))"
   ]
  },
  {
   "cell_type": "code",
   "execution_count": 35,
   "id": "d4e08d1f-ca4e-4545-8f8c-e6c8a02510ef",
   "metadata": {},
   "outputs": [
    {
     "name": "stdout",
     "output_type": "stream",
     "text": [
      "{'attributes': {}, 'zarr_format': 3, 'node_type': 'group'}\n"
     ]
    }
   ],
   "source": [
    "with open('group/group2/zarr.json') as fp:\n",
    "    print(json.load(fp))"
   ]
  },
  {
   "cell_type": "code",
   "execution_count": 36,
   "id": "5d025f78-89a2-43f7-bf32-23cee8fe8434",
   "metadata": {},
   "outputs": [
    {
     "name": "stdout",
     "output_type": "stream",
     "text": [
      "{'shape': [16, 16], 'data_type': 'int32', 'chunk_grid': {'configuration': {'chunk_shape': [16, 16]}, 'name': 'regular'}, 'chunk_key_encoding': {'configuration': {'separator': '/'}, 'name': 'default'}, 'fill_value': 0, 'codecs': [{'configuration': {'endian': 'little'}, 'name': 'bytes'}], 'attributes': {}, 'zarr_format': 3, 'node_type': 'array'}\n"
     ]
    }
   ],
   "source": [
    "with open('group/group2/array/zarr.json') as fp:\n",
    "    print(json.load(fp))"
   ]
  },
  {
   "cell_type": "markdown",
   "id": "8c2d36d3-0471-43e9-812f-bc9df6b2e0a6",
   "metadata": {},
   "source": [
    "## Opening a group"
   ]
  },
  {
   "cell_type": "code",
   "execution_count": 29,
   "id": "8304b364-d5ee-4211-a2ba-604ffce37071",
   "metadata": {},
   "outputs": [],
   "source": [
    "g = zarrita.Group.open(store='group')\n",
    "g2 = g['group2']\n",
    "a = g['group2']['array']\n",
    "assert np.array_equal(a[:, :], testdata)"
   ]
  }
 ],
 "metadata": {
  "kernelspec": {
   "display_name": "Python 3 (ipykernel)",
   "language": "python",
   "name": "python3"
  },
  "language_info": {
   "codemirror_mode": {
    "name": "ipython",
    "version": 3
   },
   "file_extension": ".py",
   "mimetype": "text/x-python",
   "name": "python",
   "nbconvert_exporter": "python",
   "pygments_lexer": "ipython3",
   "version": "3.12.3"
  }
 },
 "nbformat": 4,
 "nbformat_minor": 5
}
